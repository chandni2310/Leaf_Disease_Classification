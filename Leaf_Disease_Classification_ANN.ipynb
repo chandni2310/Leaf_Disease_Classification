{
  "nbformat": 4,
  "nbformat_minor": 0,
  "metadata": {
    "colab": {
      "name": "Leaf_Disease_Classification_ANN.ipynb",
      "provenance": []
    },
    "kernelspec": {
      "name": "python3",
      "display_name": "Python 3"
    }
  },
  "cells": [
    {
      "cell_type": "code",
      "metadata": {
        "id": "XkXr7azQ4mB_",
        "colab_type": "code",
        "colab": {
          "base_uri": "https://localhost:8080/",
          "height": 124
        },
        "outputId": "d6851cbe-ff2f-4a9b-f352-6852c2cafd1b"
      },
      "source": [
        "from google.colab import drive\n",
        "drive.mount('/content/drive')\n"
      ],
      "execution_count": null,
      "outputs": [
        {
          "output_type": "stream",
          "text": [
            "Go to this URL in a browser: https://accounts.google.com/o/oauth2/auth?client_id=947318989803-6bn6qk8qdgf4n4g3pfee6491hc0brc4i.apps.googleusercontent.com&redirect_uri=urn%3aietf%3awg%3aoauth%3a2.0%3aoob&response_type=code&scope=email%20https%3a%2f%2fwww.googleapis.com%2fauth%2fdocs.test%20https%3a%2f%2fwww.googleapis.com%2fauth%2fdrive%20https%3a%2f%2fwww.googleapis.com%2fauth%2fdrive.photos.readonly%20https%3a%2f%2fwww.googleapis.com%2fauth%2fpeopleapi.readonly\n",
            "\n",
            "Enter your authorization code:\n",
            "··········\n",
            "Mounted at /content/drive\n"
          ],
          "name": "stdout"
        }
      ]
    },
    {
      "cell_type": "code",
      "metadata": {
        "id": "szGVq4qV5FHG",
        "colab_type": "code",
        "colab": {
          "base_uri": "https://localhost:8080/",
          "height": 1000
        },
        "outputId": "21597a25-1272-4736-93aa-c5d5febd9c99"
      },
      "source": [
        "!unzip \"/content/drive/My Drive/ML/Plant_disease_final.zip\""
      ],
      "execution_count": null,
      "outputs": [
        {
          "output_type": "stream",
          "text": [
            "Archive:  /content/drive/My Drive/ML/Plant_disease_final.zip\n",
            "   creating: Plant_disease/Pepper__bell___Bacterial_spot/\n",
            "  inflating: Plant_disease/Pepper__bell___Bacterial_spot/01dfb88b-cd5a-420c-b163-51f5fe07b74d___JR_B.Spot 9091.JPG  \n",
            "  inflating: Plant_disease/Pepper__bell___Bacterial_spot/01ebc916-4793-40a3-b5e4-a32687e4fa3d___NREC_B.Spot 9125.JPG  \n",
            "  inflating: Plant_disease/Pepper__bell___Bacterial_spot/0c2392f6-3e69-4baf-b9f3-197623f6631a___JR_B.Spot 3176.JPG  \n",
            "  inflating: Plant_disease/Pepper__bell___Bacterial_spot/0c6f6805-490e-438c-b9cd-3fd7ee29f31b___NREC_B.Spot 9123.JPG  \n",
            "  inflating: Plant_disease/Pepper__bell___Bacterial_spot/0c99cb45-b4e0-4ade-bba5-fab3b678f0bb___JR_B.Spot 8912.JPG  \n",
            "  inflating: Plant_disease/Pepper__bell___Bacterial_spot/0ce74db6-be9b-4c43-a104-6a3f9bcd2de2___NREC_B.Spot 1827.JPG  \n",
            "  inflating: Plant_disease/Pepper__bell___Bacterial_spot/0d2635e7-df23-4ceb-b3ba-3af50bb58357___NREC_B.Spot 1874.JPG  \n",
            "  inflating: Plant_disease/Pepper__bell___Bacterial_spot/0d524d59-fb02-481b-9034-64f1de0da914___NREC_B.Spot 9060.JPG  \n",
            "  inflating: Plant_disease/Pepper__bell___Bacterial_spot/0d8421cd-eebc-4018-b591-12352dd970a7___JR_B.Spot 3234.JPG  \n",
            "  inflating: Plant_disease/Pepper__bell___Bacterial_spot/0d8445ac-6333-42b0-bf32-950a2dd83908___NREC_B.Spot 1862.JPG  \n",
            "  inflating: Plant_disease/Pepper__bell___Bacterial_spot/0d9b55df-a8c0-4784-b1e4-957c8d679513___NREC_B.Spot 1825.JPG  \n",
            "  inflating: Plant_disease/Pepper__bell___Bacterial_spot/0e57b44f-bb06-43ec-8688-5a7985b461e7___JR_B.Spot 8970.JPG  \n",
            "  inflating: Plant_disease/Pepper__bell___Bacterial_spot/0efa6329-22f4-4bf0-a67a-17b0d5e4d2f2___NREC_B.Spot 9145.JPG  \n",
            "  inflating: Plant_disease/Pepper__bell___Bacterial_spot/0f2b941b-cce2-46e1-a6e3-6924604e9926___NREC_B.Spot 9073.JPG  \n",
            "  inflating: Plant_disease/Pepper__bell___Bacterial_spot/0f72db9c-d635-4415-9781-68937328aed2___NREC_B.Spot 9188.JPG  \n",
            "  inflating: Plant_disease/Pepper__bell___Bacterial_spot/0fcbdf76-fcc4-4271-986a-9466a784d404___JR_B.Spot 3374.JPG  \n",
            "  inflating: Plant_disease/Pepper__bell___Bacterial_spot/0fdb66e8-b17d-42c2-bc6d-30dcfab8fcae___JR_B.Spot 9058.JPG  \n",
            "  inflating: Plant_disease/Pepper__bell___Bacterial_spot/0fe8a42b-b943-43d6-88c4-78abdcbfe02d___NREC_B.Spot 9236.JPG  \n",
            "  inflating: Plant_disease/Pepper__bell___Bacterial_spot/1a1af0c4-9e4a-4158-b982-f81d487a3b68___NREC_B.Spot 9148.JPG  \n",
            "  inflating: Plant_disease/Pepper__bell___Bacterial_spot/1ade72cf-f7e0-4282-92d9-614bf05289a0___NREC_B.Spot 1975.JPG  \n",
            "   creating: Plant_disease/Pepper__bell___healthy/\n",
            "  inflating: Plant_disease/Pepper__bell___healthy/1a1a389d-f186-4481-8a5c-b8c6f864ad7f___JR_HL 8649.JPG  \n",
            "  inflating: Plant_disease/Pepper__bell___healthy/1a482d0c-d3a9-4e79-b412-f2288dc5067f___JR_HL 5852.JPG  \n",
            "  inflating: Plant_disease/Pepper__bell___healthy/1a629a1c-1000-48ce-a7d8-2064aa7e24ae___JR_HL 6001.JPG  \n",
            "  inflating: Plant_disease/Pepper__bell___healthy/1a93f310-cd75-4af6-96d3-690180b4542a___JR_HL 5850.JPG  \n",
            "  inflating: Plant_disease/Pepper__bell___healthy/1aa25bab-008c-4114-9832-096d81592dd9___JR_HL 7992.JPG  \n",
            "  inflating: Plant_disease/Pepper__bell___healthy/1aaaa11e-ec45-4d6d-ab7f-1d3ea053d14d___JR_HL 5937.JPG  \n",
            "  inflating: Plant_disease/Pepper__bell___healthy/1b09df7a-eb13-4192-b211-900898ab21b4___JR_HL 8533.JPG  \n",
            "  inflating: Plant_disease/Pepper__bell___healthy/1b2c7e1e-2f0a-4e74-9932-d26118020ffc___JR_HL 8590.JPG  \n",
            "  inflating: Plant_disease/Pepper__bell___healthy/1b4b5b1f-9390-46c5-908a-d53b93059f5d___JR_HL 8379.JPG  \n",
            "  inflating: Plant_disease/Pepper__bell___healthy/1b574484-60cd-4ae4-83ed-511a5ae07ea8___JR_HL 7849.JPG  \n",
            "  inflating: Plant_disease/Pepper__bell___healthy/1b71a13e-9f6d-4321-be6e-8a7410b76f0e___JR_HL 7724.JPG  \n",
            "  inflating: Plant_disease/Pepper__bell___healthy/1ba85df7-f8db-4da9-afe5-25dd506ee87c___JR_HL 7881.JPG  \n",
            "  inflating: Plant_disease/Pepper__bell___healthy/1bb25702-cb7c-4ff1-9f08-41153553fd58___JR_HL 8364.JPG  \n",
            "  inflating: Plant_disease/Pepper__bell___healthy/1bbdce5c-a65c-4ddc-81b7-6f80e6254734___JR_HL 8387.JPG  \n",
            "  inflating: Plant_disease/Pepper__bell___healthy/1bd09026-a26c-46be-b5ec-850a287c6cb5___JR_HL 5972.JPG  \n",
            "  inflating: Plant_disease/Pepper__bell___healthy/1be321d5-d2cc-4945-b2f3-a36c41160838___JR_HL 7596.JPG  \n",
            "  inflating: Plant_disease/Pepper__bell___healthy/1bf8d046-2b1c-44bf-9a00-9f16e0971d2a___JR_HL 8281.JPG  \n",
            "  inflating: Plant_disease/Pepper__bell___healthy/1bfa8779-be94-4f16-9668-08c91f9ce3d6___JR_HL 8358.JPG  \n",
            "  inflating: Plant_disease/Pepper__bell___healthy/1bfbdcd9-68ae-4676-9693-5f02fd310860___JR_HL 8715.JPG  \n",
            "  inflating: Plant_disease/Pepper__bell___healthy/1c665f14-938a-4563-8613-031a2cb04453___JR_HL 5815.JPG  \n",
            "   creating: Plant_disease/Potato___Early_blight/\n",
            "  inflating: Plant_disease/Potato___Early_blight/0caf6a39-3f5f-4201-a4d7-3ea35fdf1303___RS_Early.B 6762.JPG  \n",
            "  inflating: Plant_disease/Potato___Early_blight/0d2325ff-4e3e-44bf-9614-e5ad6c23fc16___RS_Early.B 6797.JPG  \n",
            "  inflating: Plant_disease/Potato___Early_blight/0d2e2971-f1c9-4278-b35c-91dd8a22a64d___RS_Early.B 7581.JPG  \n",
            "  inflating: Plant_disease/Potato___Early_blight/0d987d4a-26bc-4f74-8a16-12f8969dfed8___RS_Early.B 7013.JPG  \n",
            "  inflating: Plant_disease/Potato___Early_blight/0d9dbf50-53a9-42b2-8b29-0360fb7dbd98___RS_Early.B 6692.JPG  \n",
            "  inflating: Plant_disease/Potato___Early_blight/0ddd62cd-a999-4d58-a8f1-506e1004a595___RS_Early.B 8041.JPG  \n",
            "  inflating: Plant_disease/Potato___Early_blight/0e0a1b51-f61c-4934-bc57-a820af1faacb___RS_Early.B 7147.JPG  \n",
            "  inflating: Plant_disease/Potato___Early_blight/0e6b9e09-2bcd-41e0-b001-b80a33a8a78b___RS_Early.B 8694.JPG  \n",
            "  inflating: Plant_disease/Potato___Early_blight/0ed45bc2-c8cc-4d65-8f53-bdc10d78a7dc___RS_Early.B 8504.JPG  \n",
            "  inflating: Plant_disease/Potato___Early_blight/0ede4acd-3685-40d9-b52b-7b3cb6536fa8___RS_Early.B 7377.JPG  \n",
            "  inflating: Plant_disease/Potato___Early_blight/0f223bbc-d2b4-4d58-8314-359d92d0102b___RS_Early.B 8052.JPG  \n",
            "  inflating: Plant_disease/Potato___Early_blight/0f9c098f-a6df-4a73-8c14-8e7d4dbb1b0b___RS_Early.B 7991.JPG  \n",
            "  inflating: Plant_disease/Potato___Early_blight/0faca7fe-7254-4dfa-8388-bbc776338c9c___RS_Early.B 7929.JPG  \n",
            "  inflating: Plant_disease/Potato___Early_blight/0fd22207-cb37-42a1-965f-7dfe43f9d579___RS_Early.B 6876.JPG  \n",
            "  inflating: Plant_disease/Potato___Early_blight/1a2970b6-bafd-4812-93bc-57ff969e1045___RS_Early.B 7330.JPG  \n",
            "  inflating: Plant_disease/Potato___Early_blight/1a38f06b-da2a-4c57-bef1-a73254896403___RS_Early.B 9178.JPG  \n",
            "  inflating: Plant_disease/Potato___Early_blight/1a77c047-7ed8-4f02-bfaf-a19e7a67c3dd___RS_Early.B 7076.JPG  \n",
            "  inflating: Plant_disease/Potato___Early_blight/1af20ff8-980d-4912-b337-804b09667de3___RS_Early.B 7392.JPG  \n",
            "  inflating: Plant_disease/Potato___Early_blight/1b0a2898-00b9-4a12-b4dc-a89b77b9e8b7___RS_Early.B 6928.JPG  \n",
            "  inflating: Plant_disease/Potato___Early_blight/1b4304a9-88c2-4c09-bfea-830fa162a35a___RS_Early.B 7188.JPG  \n",
            "   creating: Plant_disease/Potato___healthy/\n",
            "  inflating: Plant_disease/Potato___healthy/03da9931-e514-4cc7-b04a-8f474a133ce5___RS_HL 1830.JPG  \n",
            "  inflating: Plant_disease/Potato___healthy/2d98cbc8-cbe6-423c-b2ab-3f7f8bcea5d5___RS_HL 1945.JPG  \n",
            "  inflating: Plant_disease/Potato___healthy/2dee1571-ef6b-40ef-8c46-334e89aad3f1___RS_HL 1950.JPG  \n",
            "  inflating: Plant_disease/Potato___healthy/2e0b8b4b-e900-408b-b760-730690bbd382___RS_HL 1901.JPG  \n",
            "  inflating: Plant_disease/Potato___healthy/3a00204c-5e53-4e5d-95a6-f8819031744e___RS_HL 5420.JPG  \n",
            "  inflating: Plant_disease/Potato___healthy/3a1dbeee-089c-43f0-8f51-a92d3687a515___RS_HL 1754.JPG  \n",
            "  inflating: Plant_disease/Potato___healthy/3c0d6888-c7e1-4cf8-9c25-9a0b8c62ba72___RS_HL 1780.JPG  \n",
            "  inflating: Plant_disease/Potato___healthy/3edf7c3f-73e0-439c-870d-76cfd7c3bc45___RS_HL 1859.JPG  \n",
            "  inflating: Plant_disease/Potato___healthy/3f369e63-81eb-4194-a145-df9ed91abc5d___RS_HL 1745.JPG  \n",
            "  inflating: Plant_disease/Potato___healthy/4a08efaa-28cc-4356-8769-4002f4b299ef___RS_HL 1850.JPG  \n",
            "  inflating: Plant_disease/Potato___healthy/4ae82355-6885-40e7-9807-dabe46ed3441___RS_HL 5410.JPG  \n",
            "  inflating: Plant_disease/Potato___healthy/4bbccfb6-5720-4c80-9b37-0c3ed8999c9f___RS_HL 1791.JPG  \n",
            "  inflating: Plant_disease/Potato___healthy/5a3fc4bb-a78c-4276-8934-f0b037ffb860___RS_HL 5412.JPG  \n",
            "  inflating: Plant_disease/Potato___healthy/5cb360dd-5c17-4c57-b31d-97cd8dd8d0bd___RS_HL 1797.JPG  \n",
            "  inflating: Plant_disease/Potato___healthy/5d505af8-3f73-4781-980c-a4a696a04550___RS_HL 1934.JPG  \n",
            "  inflating: Plant_disease/Potato___healthy/5df30492-0b54-474d-8883-bba9474ca88f___RS_HL 1801.JPG  \n",
            "  inflating: Plant_disease/Potato___healthy/5e19b1f4-fd65-4c4d-bcd2-18c8c519eddb___RS_HL 1965.JPG  \n",
            "  inflating: Plant_disease/Potato___healthy/5ea316eb-10a2-42c0-b781-40d90356ccaa___RS_HL 1935.JPG  \n",
            "  inflating: Plant_disease/Potato___healthy/5fcbde8f-52af-4963-b324-ff7f4dd6bd4c___RS_HL 1762.JPG  \n",
            "  inflating: Plant_disease/Potato___healthy/6f4b9acd-f34d-4771-a6bc-2001de2dd1d3___RS_HL 1898.JPG  \n",
            "   creating: Plant_disease/Potato___Late_blight/\n",
            "  inflating: Plant_disease/Potato___Late_blight/01a8cc9f-074a-4866-87c8-bb5a9e3895b4___RS_LB 2968.JPG  \n",
            "  inflating: Plant_disease/Potato___Late_blight/01ad74ce-eb28-42c7-9204-778d17cfd45c___RS_LB 2669.JPG  \n",
            "  inflating: Plant_disease/Potato___Late_blight/0eb28ea9-c9e4-4999-9de2-835682241e53___RS_LB 2708.JPG  \n",
            "  inflating: Plant_disease/Potato___Late_blight/0f1fb568-1b12-45ef-ad99-c59fa9075693___RS_LB 3242.JPG  \n",
            "  inflating: Plant_disease/Potato___Late_blight/0f243024-b1fa-4f96-ac7e-ecaf6dc5bc37___RS_LB 4925.JPG  \n",
            "  inflating: Plant_disease/Potato___Late_blight/0f50da52-cb4a-4391-982a-d6cf9c9d9917___RS_LB 2581.JPG  \n",
            "  inflating: Plant_disease/Potato___Late_blight/0f6eac3b-d674-4c4d-ab3a-88689feec07f___RS_LB 5232.JPG  \n",
            "  inflating: Plant_disease/Potato___Late_blight/0f824e18-3821-486c-81a1-f1f64cf6e767___RS_LB 4894.JPG  \n",
            "  inflating: Plant_disease/Potato___Late_blight/0fe7786d-0e2f-4705-839d-898f1d9214b0___RS_LB 2836.JPG  \n",
            "  inflating: Plant_disease/Potato___Late_blight/1a146bf4-5696-4e19-842e-9e0e1ac7ac6d___RS_LB 5023.JPG  \n",
            "  inflating: Plant_disease/Potato___Late_blight/1a18d84a-8811-4806-830f-d10e98b1800e___RS_LB 3919.JPG  \n",
            "  inflating: Plant_disease/Potato___Late_blight/1a5f4258-21df-4334-a933-2ef073c932ba___RS_LB 3089.JPG  \n",
            "  inflating: Plant_disease/Potato___Late_blight/1a674846-9d13-4a7f-ba03-8931c5dd3d2c___RS_LB 2768.JPG  \n",
            "  inflating: Plant_disease/Potato___Late_blight/1a68ab56-2000-4d7a-ad4a-88d300104b7d___RS_LB 2594.JPG  \n",
            "  inflating: Plant_disease/Potato___Late_blight/1a6fc494-81dd-4649-ad8d-a5a6e58a2aa7___RS_LB 2618.JPG  \n",
            "  inflating: Plant_disease/Potato___Late_blight/1ab62af3-c0a5-4fab-bb62-e06d6f7ddb59___RS_LB 2908.JPG  \n",
            "  inflating: Plant_disease/Potato___Late_blight/1b7342d7-5d89-4ee3-8b4f-587d79187511___RS_LB 4416.JPG  \n",
            "  inflating: Plant_disease/Potato___Late_blight/1b8ae46e-1202-4715-8ad1-fd18046c42d3___RS_LB 3880.JPG  \n",
            "  inflating: Plant_disease/Potato___Late_blight/1b8f80ae-38a2-4d08-ae92-f80ff4459a73___RS_LB 2554.JPG  \n",
            "  inflating: Plant_disease/Potato___Late_blight/1c6ec55e-182e-4b7c-b416-07029edfc970___RS_LB 3950.JPG  \n",
            "   creating: Plant_disease/Tomato__Target_Spot/\n",
            "  inflating: Plant_disease/Tomato__Target_Spot/01b2013e-4030-4cd0-843c-2dbacf5f3758___Com.G_TgS_FL 8398.JPG  \n",
            "  inflating: Plant_disease/Tomato__Target_Spot/01e0b8b1-e713-4c6d-973b-f7636280c58a___Com.G_TgS_FL 9816.JPG  \n",
            "  inflating: Plant_disease/Tomato__Target_Spot/01f0e0cb-83a7-4190-9645-bd06b70c8d65___Com.G_TgS_FL 8318.JPG  \n",
            "  inflating: Plant_disease/Tomato__Target_Spot/0da91f19-f1bb-4129-b122-459648794512___Com.G_TgS_FL 8276.JPG  \n",
            "  inflating: Plant_disease/Tomato__Target_Spot/0df45326-8aa9-49bf-a2fd-e7f454c2dfbf___Com.G_TgS_FL 9718.JPG  \n",
            "  inflating: Plant_disease/Tomato__Target_Spot/0e763e60-8821-4484-9793-f8ee4f515127___Com.G_TgS_FL 8135.JPG  \n",
            "  inflating: Plant_disease/Tomato__Target_Spot/0e8a96d7-528a-4d09-8263-2a2d92f3c3b1___Com.G_TgS_FL 8337.JPG  \n",
            "  inflating: Plant_disease/Tomato__Target_Spot/0e9c0af8-facc-4240-b498-41f8004c8061___Com.G_TgS_FL 0915.JPG  \n",
            "  inflating: Plant_disease/Tomato__Target_Spot/0eaa45be-4346-4e3c-ab6f-4ce9f9aec1db___Com.G_TgS_FL 7902.JPG  \n",
            "  inflating: Plant_disease/Tomato__Target_Spot/0ed61d9f-3301-4088-a020-ccc9ebed8b21___Com.G_TgS_FL 8399.JPG  \n",
            "  inflating: Plant_disease/Tomato__Target_Spot/0f32cb0d-8a87-4d7b-beb1-945c4e1cd374___Com.G_TgS_FL 0642.JPG  \n",
            "  inflating: Plant_disease/Tomato__Target_Spot/0f5f2efc-3544-4fbc-8dcc-e623577596bc___Com.G_TgS_FL 9869.JPG  \n",
            "  inflating: Plant_disease/Tomato__Target_Spot/0f9aa748-57f0-4b14-98c0-b9c1966badc9___Com.G_TgS_FL 9854.JPG  \n",
            "  inflating: Plant_disease/Tomato__Target_Spot/0fccb8d0-3f91-442c-8d74-6dbfb163f8a9___Com.G_TgS_FL 8365.JPG  \n",
            "  inflating: Plant_disease/Tomato__Target_Spot/0fe0ad25-e48a-4b91-bd06-bdd5799944e5___Com.G_TgS_FL 8351.JPG  \n",
            "  inflating: Plant_disease/Tomato__Target_Spot/0fe6221c-5848-4000-afc6-5a10422dd300___Com.G_TgS_FL 9772.JPG  \n",
            "  inflating: Plant_disease/Tomato__Target_Spot/0fe7d644-dc8b-49f7-9a41-33ec029f6437___Com.G_TgS_FL 8274.JPG  \n",
            "  inflating: Plant_disease/Tomato__Target_Spot/0ff11bec-6751-47dc-86a0-cf28682f13d3___Com.G_TgS_FL 7907.JPG  \n",
            "  inflating: Plant_disease/Tomato__Target_Spot/0ff32a4f-e1d2-4ab4-98ae-41ef143c56b1___Com.G_TgS_FL 1084.JPG  \n",
            "  inflating: Plant_disease/Tomato__Target_Spot/1a3fba97-a09e-48f3-b74e-fe060a03f39b___Com.G_TgS_FL 0856.JPG  \n",
            "   creating: Plant_disease/Tomato__Tomato_mosaic_virus/\n",
            "  inflating: Plant_disease/Tomato__Tomato_mosaic_virus/02cb8c4e-4542-4020-bb46-025de54d97ae___PSU_CG 2098.JPG  \n",
            "  inflating: Plant_disease/Tomato__Tomato_mosaic_virus/03b6acc7-41a6-4670-b47c-bef6d4baea18___PSU_CG 2363.JPG  \n",
            "  inflating: Plant_disease/Tomato__Tomato_mosaic_virus/1ccfd473-6b3d-47a9-897b-0653d7683d75___PSU_CG 2163.JPG  \n",
            "  inflating: Plant_disease/Tomato__Tomato_mosaic_virus/1cee26b4-0ba1-4371-8c7e-c641e6ca311d___PSU_CG 2283.JPG  \n",
            "  inflating: Plant_disease/Tomato__Tomato_mosaic_virus/1d89d788-438c-4cee-9403-6fd8ac9863de___PSU_CG 2254.JPG  \n",
            "  inflating: Plant_disease/Tomato__Tomato_mosaic_virus/1f675039-385d-4438-b157-db0c95673580___PSU_CG 2100.JPG  \n",
            "  inflating: Plant_disease/Tomato__Tomato_mosaic_virus/2afd76a3-68f8-42cf-a68a-2f3076168dc0___PSU_CG 2260.JPG  \n",
            "  inflating: Plant_disease/Tomato__Tomato_mosaic_virus/2bd56a9c-3dec-41f7-ab7a-403670ea0462___PSU_CG 2346.JPG  \n",
            "  inflating: Plant_disease/Tomato__Tomato_mosaic_virus/2d053972-2f30-414c-9de9-e37c98e44648___PSU_CG 2104.JPG  \n",
            "  inflating: Plant_disease/Tomato__Tomato_mosaic_virus/2d981dde-7e7f-4486-ae83-cdb9b28c7904___PSU_CG 2258.JPG  \n",
            "  inflating: Plant_disease/Tomato__Tomato_mosaic_virus/2df35be7-ba8c-4ff6-a608-f7c481c59ede___PSU_CG 2202.JPG  \n",
            "  inflating: Plant_disease/Tomato__Tomato_mosaic_virus/2e03280e-123a-4231-a73a-652c57338137___PSU_CG 2053.JPG  \n",
            "  inflating: Plant_disease/Tomato__Tomato_mosaic_virus/2f240e5e-cbb9-406a-98aa-12028411429c___PSU_CG 2123.JPG  \n",
            "  inflating: Plant_disease/Tomato__Tomato_mosaic_virus/2f8c596f-15d8-4524-b527-8617329c1819___PSU_CG 2146.JPG  \n",
            "  inflating: Plant_disease/Tomato__Tomato_mosaic_virus/2fa22081-5533-4b18-9a8f-671f210db37e___PSU_CG 2092.JPG  \n",
            "  inflating: Plant_disease/Tomato__Tomato_mosaic_virus/2ffd2426-1463-48aa-a3bb-622ece568219___PSU_CG 2137.JPG  \n",
            "  inflating: Plant_disease/Tomato__Tomato_mosaic_virus/3a99961c-cc66-44a9-b2c7-4d5a0714e839___PSU_CG 2162.JPG  \n",
            "  inflating: Plant_disease/Tomato__Tomato_mosaic_virus/3b0a3f5d-ff2c-4c7b-a8b9-71d8daa6dd4f___PSU_CG 2097.JPG  \n",
            "  inflating: Plant_disease/Tomato__Tomato_mosaic_virus/3b990211-ec63-4cb4-a502-ca99b4764dfb___PSU_CG 2126.JPG  \n",
            "  inflating: Plant_disease/Tomato__Tomato_mosaic_virus/3cb6ee9b-8550-4216-bde5-814807add4e5___PSU_CG 2395.JPG  \n",
            "   creating: Plant_disease/Tomato__Tomato_YellowLeaf__Curl_Virus/\n",
            "  inflating: Plant_disease/Tomato__Tomato_YellowLeaf__Curl_Virus/0a351fc7-e2aa-426f-bba0-f6d5096827a3___UF.GRC_YLCV_Lab 02044.JPG  \n",
            "  inflating: Plant_disease/Tomato__Tomato_YellowLeaf__Curl_Virus/0a5431ac-44ff-4507-a8aa-6eee46235015___UF.GRC_YLCV_Lab 03031.JPG  \n",
            "  inflating: Plant_disease/Tomato__Tomato_YellowLeaf__Curl_Virus/0a59259c-71e7-4d92-a232-d9d04e924aac___UF.GRC_YLCV_Lab 01709.JPG  \n",
            "  inflating: Plant_disease/Tomato__Tomato_YellowLeaf__Curl_Virus/0a85f197-fa0e-4665-be11-d52e84a45878___UF.GRC_YLCV_Lab 02732.JPG  \n",
            "  inflating: Plant_disease/Tomato__Tomato_YellowLeaf__Curl_Virus/0a9560c4-1430-4514-93c4-7036f6fee43d___UF.GRC_YLCV_Lab 01280.JPG  \n",
            "  inflating: Plant_disease/Tomato__Tomato_YellowLeaf__Curl_Virus/0a972298-84e7-47b4-9968-a77369063b02___YLCV_GCREC 1977.JPG  \n",
            "  inflating: Plant_disease/Tomato__Tomato_YellowLeaf__Curl_Virus/0aa5f107-5a75-4679-a316-634a840660fe___YLCV_NREC 2657.JPG  \n",
            "  inflating: Plant_disease/Tomato__Tomato_YellowLeaf__Curl_Virus/0ab15cde-93e5-41ff-8fd5-db09c6829d72___YLCV_GCREC 2293.JPG  \n",
            "  inflating: Plant_disease/Tomato__Tomato_YellowLeaf__Curl_Virus/0adad6ca-4983-4c80-b19f-6be9d47400ea___YLCV_GCREC 5341.JPG  \n",
            "  inflating: Plant_disease/Tomato__Tomato_YellowLeaf__Curl_Virus/0ae5c8c7-af28-42b4-a312-efd080f76c1a___YLCV_GCREC 5464.JPG  \n",
            "  inflating: Plant_disease/Tomato__Tomato_YellowLeaf__Curl_Virus/0ae630bc-8f67-40b7-b264-120ba0d66341___YLCV_GCREC 5115.JPG  \n",
            "  inflating: Plant_disease/Tomato__Tomato_YellowLeaf__Curl_Virus/0ae828f5-e6e8-4100-b297-52f98dfc6109___UF.GRC_YLCV_Lab 01958.JPG  \n",
            "  inflating: Plant_disease/Tomato__Tomato_YellowLeaf__Curl_Virus/0ae9ff61-7285-4683-897e-a9703ead6307___YLCV_NREC 2199.JPG  \n",
            "  inflating: Plant_disease/Tomato__Tomato_YellowLeaf__Curl_Virus/0aeac05f-804d-4e4c-a753-644ae6547d60___UF.GRC_YLCV_Lab 01539.JPG  \n",
            "  inflating: Plant_disease/Tomato__Tomato_YellowLeaf__Curl_Virus/0aeb6056-aab3-4510-bf52-77960c436637___UF.GRC_YLCV_Lab 01334.JPG  \n",
            "  inflating: Plant_disease/Tomato__Tomato_YellowLeaf__Curl_Virus/0af20242-8776-44c3-80fd-32dedaa1609f___UF.GRC_YLCV_Lab 02985.JPG  \n",
            "  inflating: Plant_disease/Tomato__Tomato_YellowLeaf__Curl_Virus/0b0a09a1-7e13-44e5-ab27-2e8f3ca3d605___UF.GRC_YLCV_Lab 02968.JPG  \n",
            "  inflating: Plant_disease/Tomato__Tomato_YellowLeaf__Curl_Virus/0b1dcb63-9519-4b34-af8f-cd2292c86df5___YLCV_GCREC 5294.JPG  \n",
            "  inflating: Plant_disease/Tomato__Tomato_YellowLeaf__Curl_Virus/0b3c0bd6-c379-483e-a340-f592056e8c69___YLCV_NREC 2764.JPG  \n",
            "  inflating: Plant_disease/Tomato__Tomato_YellowLeaf__Curl_Virus/0b4f1295-fb19-4541-afa5-271800914460___UF.GRC_YLCV_Lab 03030.JPG  \n",
            "   creating: Plant_disease/Tomato_Bacterial_spot/\n",
            "  inflating: Plant_disease/Tomato_Bacterial_spot/0c09c121-e945-4b7e-acbf-dff4e0d01acb___GCREC_Bact.Sp 3379.JPG  \n",
            "  inflating: Plant_disease/Tomato_Bacterial_spot/0c32d6d5-bf5b-4904-8108-d7a901f2cb6b___UF.GRC_BS_Lab Leaf 8662.JPG  \n",
            "  inflating: Plant_disease/Tomato_Bacterial_spot/0c883752-3334-4615-841d-287d58ecf60d___GCREC_Bact.Sp 6119.JPG  \n",
            "  inflating: Plant_disease/Tomato_Bacterial_spot/0c9b7dd9-a0c7-4b6e-bb4d-b2e3cab833d0___GCREC_Bact.Sp 6081.JPG  \n",
            "  inflating: Plant_disease/Tomato_Bacterial_spot/0cbaca0d-e422-438f-89df-344b493888b8___GCREC_Bact.Sp 5832.JPG  \n",
            "  inflating: Plant_disease/Tomato_Bacterial_spot/0cc3364e-3f2a-42b2-aefe-5af03dad2966___GCREC_Bact.Sp 5580.JPG  \n",
            "  inflating: Plant_disease/Tomato_Bacterial_spot/0ce4dee0-2d0c-4c25-a9b2-4abc5f9083db___GCREC_Bact.Sp 3708.JPG  \n",
            "  inflating: Plant_disease/Tomato_Bacterial_spot/0d227915-443b-402c-8a25-cc43434c4bb0___GCREC_Bact.Sp 5913.JPG  \n",
            "  inflating: Plant_disease/Tomato_Bacterial_spot/0d56df83-84fb-4189-a5d2-3a6da18a224d___UF.GRC_BS_Lab Leaf 9029.JPG  \n",
            "  inflating: Plant_disease/Tomato_Bacterial_spot/0d922399-7ba5-4d12-b84e-bb4b966c58ae___GCREC_Bact.Sp 6307.JPG  \n",
            "  inflating: Plant_disease/Tomato_Bacterial_spot/0da838ea-fd8c-43c0-a437-4aba96234262___UF.GRC_BS_Lab Leaf 8770.JPG  \n",
            "  inflating: Plant_disease/Tomato_Bacterial_spot/0db0e663-b580-45b3-bd20-bc8a7f3d8b34___GCREC_Bact.Sp 6189.JPG  \n",
            "  inflating: Plant_disease/Tomato_Bacterial_spot/0de30b71-8bd0-4270-a65b-7ae8befdd765___GCREC_Bact.Sp 6360.JPG  \n",
            "  inflating: Plant_disease/Tomato_Bacterial_spot/0e16b13c-0308-4199-a823-c6c2ab944023___GCREC_Bact.Sp 3068.JPG  \n",
            "  inflating: Plant_disease/Tomato_Bacterial_spot/0e3ded7b-0b9e-4c11-9db7-38eba7e0bdb2___GCREC_Bact.Sp 3598.JPG  \n",
            "  inflating: Plant_disease/Tomato_Bacterial_spot/0e591ff9-a58f-4748-ac0f-984233f441af___GCREC_Bact.Sp 3292.JPG  \n",
            "  inflating: Plant_disease/Tomato_Bacterial_spot/0e94696b-3e0d-4d4c-a712-01197e228cf1___UF.GRC_BS_Lab Leaf 8641.JPG  \n",
            "  inflating: Plant_disease/Tomato_Bacterial_spot/0ed4877b-be80-4b85-8754-ac13d794ca2f___GCREC_Bact.Sp 6198.JPG  \n",
            "  inflating: Plant_disease/Tomato_Bacterial_spot/0ed6d8f5-dd9f-4f1d-a33d-2f556be12a27___UF.GRC_BS_Lab Leaf 0291.JPG  \n",
            "  inflating: Plant_disease/Tomato_Bacterial_spot/0eeb4776-110d-4100-8c88-26a64eb05b22___GCREC_Bact.Sp 6101.JPG  \n",
            "   creating: Plant_disease/Tomato_Early_blight/\n",
            "  inflating: Plant_disease/Tomato_Early_blight/0c221e01-a85e-4794-b45b-3a91e349a8d2___RS_Erly.B 6425.JPG  \n",
            "  inflating: Plant_disease/Tomato_Early_blight/0c865fa4-b0bf-4e69-b39a-d97b068cef84___RS_Erly.B 7477.JPG  \n",
            "  inflating: Plant_disease/Tomato_Early_blight/0cd17aff-13d8-439a-ac08-dae1aea55edb___RS_Erly.B 7828.JPG  \n",
            "  inflating: Plant_disease/Tomato_Early_blight/0cd1ebaf-3975-4749-b625-50b7b0751c36___RS_Erly.B 7508.JPG  \n",
            "  inflating: Plant_disease/Tomato_Early_blight/0cd2270f-87f8-45b5-a4af-19fa34b2acaa___RS_Erly.B 9567.JPG  \n",
            "  inflating: Plant_disease/Tomato_Early_blight/0d5f65a3-b32f-4565-b63a-c6da73c1322b___RS_Erly.B 8310.JPG  \n",
            "  inflating: Plant_disease/Tomato_Early_blight/0db67be3-f733-4d15-b7d9-5d075b2cafc7___RS_Erly.B 6401.JPG  \n",
            "  inflating: Plant_disease/Tomato_Early_blight/0e03c87e-b43f-4cfe-a837-71306c68f4c0___RS_Erly.B 7733.JPG  \n",
            "  inflating: Plant_disease/Tomato_Early_blight/0e2abcfb-e62b-4c61-a24a-0800cad904a8___RS_Erly.B 7382.JPG  \n",
            "  inflating: Plant_disease/Tomato_Early_blight/0e2e58b7-1417-49c4-b014-b5efb4b4b831___RS_Erly.B 8256.JPG  \n",
            "  inflating: Plant_disease/Tomato_Early_blight/0e39c18a-9e04-4f6b-b557-dc0e944d22e5___RS_Erly.B 9501.JPG  \n",
            "  inflating: Plant_disease/Tomato_Early_blight/0ecc2ee7-fb66-41fa-a23b-9bdeaf31078a___RS_Erly.B 6381.JPG  \n",
            "  inflating: Plant_disease/Tomato_Early_blight/0efaac13-1988-48db-aec3-f31df3045b95___RS_Erly.B 8342.JPG  \n",
            "  inflating: Plant_disease/Tomato_Early_blight/0f03a09c-aa48-4d51-95e1-752c466c3742___RS_Erly.B 6413.JPG  \n",
            "  inflating: Plant_disease/Tomato_Early_blight/0f065614-a53a-4c83-9d29-5d3e4ab5b41d___RS_Erly.B 7676.JPG  \n",
            "  inflating: Plant_disease/Tomato_Early_blight/0f111718-a749-42cf-9495-412f4b51acf0___RS_Erly.B 7482.JPG  \n",
            "  inflating: Plant_disease/Tomato_Early_blight/0f12e22b-49a9-4d9a-84bc-76bb86ed2a14___RS_Erly.B 9572.JPG  \n",
            "  inflating: Plant_disease/Tomato_Early_blight/0f1fb081-c715-414e-aa64-2c398ba6c320___RS_Erly.B 6382.JPG  \n",
            "  inflating: Plant_disease/Tomato_Early_blight/0f4e562d-77ee-47c2-8ee9-34b391bc0fc3___RS_Erly.B 9434.JPG  \n",
            "  inflating: Plant_disease/Tomato_Early_blight/0f7a2408-9c26-4ff9-bee5-2bfcd91a11f7___RS_Erly.B 9440.JPG  \n",
            "   creating: Plant_disease/Tomato_healthy/\n",
            "  inflating: Plant_disease/Tomato_healthy/0b330273-890c-4995-af72-cba070fc0061___GH_HL Leaf 312.JPG  \n",
            "  inflating: Plant_disease/Tomato_healthy/0bfe260c-a71e-474e-bfb1-78f1e5ca5698___RS_HL 0497.JPG  \n",
            "  inflating: Plant_disease/Tomato_healthy/0c3eaf2d-8203-441d-9248-1c64e00b5b8b___RS_HL 0018.JPG  \n",
            "  inflating: Plant_disease/Tomato_healthy/0c4b06d5-4053-44fc-99b6-504934fdd3a9___GH_HL Leaf 199.1.JPG  \n",
            "  inflating: Plant_disease/Tomato_healthy/0c8c9c80-b7e0-47a7-81d3-b5a2174e545d___GH_HL Leaf 496.1.JPG  \n",
            "  inflating: Plant_disease/Tomato_healthy/0cabff41-b00b-4692-98af-6b8b0aeba7aa___RS_HL 9774.JPG  \n",
            "  inflating: Plant_disease/Tomato_healthy/0caff918-5807-40f2-b9e4-7dd34a7bab5d___RS_HL 0345.JPG  \n",
            "  inflating: Plant_disease/Tomato_healthy/0cb10f98-491d-4e1f-b8ea-4fb0f1b3675f___GH_HL Leaf 333.JPG  \n",
            "  inflating: Plant_disease/Tomato_healthy/0cfee8b1-5de4-4118-9e25-f9c37bb6f17e___GH_HL Leaf 252.JPG  \n",
            "  inflating: Plant_disease/Tomato_healthy/0d259481-e08d-459d-aa92-fe05e1524742___GH_HL Leaf 253.1.JPG  \n",
            "  inflating: Plant_disease/Tomato_healthy/0d2bcda8-8dae-408e-8919-21dfa6cc9eea___RS_HL 0335.JPG  \n",
            "  inflating: Plant_disease/Tomato_healthy/0d3691ab-5413-4313-870e-9e5d2faf33ea___RS_HL 9958.JPG  \n",
            "  inflating: Plant_disease/Tomato_healthy/0d515778-61ef-4f0b-ab54-75607c80220f___RS_HL 9745.JPG  \n",
            "  inflating: Plant_disease/Tomato_healthy/0d615a38-cfa4-45e4-b1b4-9977220e19ca___RS_HL 9815.JPG  \n",
            "  inflating: Plant_disease/Tomato_healthy/0d70d565-520e-474c-85c1-ab478c9f1d4b___GH_HL Leaf 203.1.JPG  \n",
            "  inflating: Plant_disease/Tomato_healthy/0d789240-9714-4378-8b63-4afb12ddfa44___RS_HL 9735.JPG  \n",
            "  inflating: Plant_disease/Tomato_healthy/0d91db63-181b-4c3a-939b-181cc812e466___RS_HL 0308.JPG  \n",
            "  inflating: Plant_disease/Tomato_healthy/0d932b2a-584e-4971-8590-70c5f0a049cf___RS_HL 9739.JPG  \n",
            "  inflating: Plant_disease/Tomato_healthy/0de16216-510d-48c1-9ef0-78ce39328ff2___GH_HL Leaf 240.JPG  \n",
            "  inflating: Plant_disease/Tomato_healthy/0de569a8-21c5-4d22-b9c9-ba0ef0f2b614___RS_HL 0314.JPG  \n",
            "   creating: Plant_disease/Tomato_Late_blight/\n",
            "  inflating: Plant_disease/Tomato_Late_blight/01ece5a1-8398-4e68-a9e3-198c57b51b01___GHLB2 Leaf 8757.JPG  \n",
            "  inflating: Plant_disease/Tomato_Late_blight/1a33a1fd-d077-4cf6-84ac-7825176e25d2___GHLB2 Leaf 8969.JPG  \n",
            "  inflating: Plant_disease/Tomato_Late_blight/1a473cad-42fc-48ca-963c-d438fbca928f___RS_Late.B 5418.JPG  \n",
            "  inflating: Plant_disease/Tomato_Late_blight/1a69b38b-c4eb-42c4-9584-bcb14fb8db0c___GHLB2 Leaf 9011.JPG  \n",
            "  inflating: Plant_disease/Tomato_Late_blight/1a895389-ec7f-4622-afaf-9afe6c16a26a___RS_Late.B 5172.JPG  \n",
            "  inflating: Plant_disease/Tomato_Late_blight/1a9a2cbf-75f3-4dd9-93ef-3d3c58e97d06___GHLB2 Leaf 8666.JPG  \n",
            "  inflating: Plant_disease/Tomato_Late_blight/1aa4ebf9-7329-4108-94f6-8b6e9592d690___GHLB2 Leaf 98.1.JPG  \n",
            "  inflating: Plant_disease/Tomato_Late_blight/1aa88c5b-384f-43cf-8046-0d32d26a1133___GHLB Leaf 24 Day 12.JPG  \n",
            "  inflating: Plant_disease/Tomato_Late_blight/1ab30bde-88a4-4e29-855e-fa7a6ec1e226___RS_Late.B 5145.JPG  \n",
            "  inflating: Plant_disease/Tomato_Late_blight/1ac4f6ea-d2d0-4b94-93f0-788a5e92fe90___GHLB2 Leaf 8707.JPG  \n",
            "  inflating: Plant_disease/Tomato_Late_blight/1af98b62-adaf-43d0-b4eb-83ab3f1ee084___RS_Late.B 4908.JPG  \n",
            "  inflating: Plant_disease/Tomato_Late_blight/1b212ad6-e65a-4467-bfd1-9f9139070d33___GHLB2 Leaf 8609.JPG  \n",
            "  inflating: Plant_disease/Tomato_Late_blight/1b2756ef-4fa0-410a-8fe5-a8b699d3553e___GHLB2 Leaf 156.2.JPG  \n",
            "  inflating: Plant_disease/Tomato_Late_blight/1b36d656-ee17-43a1-8f47-0d163c69f754___RS_Late.B 5605.JPG  \n",
            "  inflating: Plant_disease/Tomato_Late_blight/1b5ec98a-5be3-408c-8d8c-e3042f68e225___RS_Late.B 5016.JPG  \n",
            "  inflating: Plant_disease/Tomato_Late_blight/1b7d11ff-e94c-45cb-9ef2-6430f989e90e___GHLB2 Leaf 120.1.JPG  \n",
            "  inflating: Plant_disease/Tomato_Late_blight/1ba00fc3-a45b-4d23-94da-5e090ba7f3d3___RS_Late.B 6403.JPG  \n",
            "  inflating: Plant_disease/Tomato_Late_blight/1bfebfc9-3eda-4889-bdb1-75a8929a1b4f___GHLB_PS Leaf 48 Day 18.jpg  \n",
            "  inflating: Plant_disease/Tomato_Late_blight/1c0bc46f-d72f-4826-9cb4-8879d80cac73___GHLB2 Leaf 9012.JPG  \n",
            "  inflating: Plant_disease/Tomato_Late_blight/1c5deb80-6bde-4aa4-843e-c69f80b7713a___RS_Late.B 6874.JPG  \n",
            "   creating: Plant_disease/Tomato_Leaf_Mold/\n",
            "  inflating: Plant_disease/Tomato_Leaf_Mold/0a555f63-bf03-4958-8993-e1932b8dce9f___Crnl_L.Mold 9064.JPG  \n",
            "  inflating: Plant_disease/Tomato_Leaf_Mold/0a9b3ff4-5343-4814-ac2c-fdb3613d4e4d___Crnl_L.Mold 6559.JPG  \n",
            "  inflating: Plant_disease/Tomato_Leaf_Mold/0ac36661-a47d-47ff-8948-42edec033b87___Crnl_L.Mold 9127.JPG  \n",
            "  inflating: Plant_disease/Tomato_Leaf_Mold/0adab1d4-5696-4cd8-8453-3931b70e856d___Crnl_L.Mold 8689.JPG  \n",
            "  inflating: Plant_disease/Tomato_Leaf_Mold/0ae36892-5cb1-476e-8a51-b7fd8183a535___Crnl_L.Mold 6728.JPG  \n",
            "  inflating: Plant_disease/Tomato_Leaf_Mold/0b3d5bf2-607f-4f95-bdcd-3542b8bd3244___Crnl_L.Mold 6654.JPG  \n",
            "  inflating: Plant_disease/Tomato_Leaf_Mold/0b943ada-01a9-4ce0-a607-e799394856de___Crnl_L.Mold 7008.JPG  \n",
            "  inflating: Plant_disease/Tomato_Leaf_Mold/0ba88812-fa4f-4602-bcec-c03cd7d0ba2b___Crnl_L.Mold 6990.JPG  \n",
            "  inflating: Plant_disease/Tomato_Leaf_Mold/0bae0514-799a-479f-a407-ad763f458916___Crnl_L.Mold 8989.JPG  \n",
            "  inflating: Plant_disease/Tomato_Leaf_Mold/0bb34c9b-ecf7-4fb1-8ee1-098bccdcdaae___Crnl_L.Mold 6522.JPG  \n",
            "  inflating: Plant_disease/Tomato_Leaf_Mold/0bc63b4c-e41b-4338-a8ac-af664048fdbb___Crnl_L.Mold 6913.JPG  \n",
            "  inflating: Plant_disease/Tomato_Leaf_Mold/0bc8fe4f-f614-43ce-bb2f-e3c0ef79f148___Crnl_L.Mold 8907.JPG  \n",
            "  inflating: Plant_disease/Tomato_Leaf_Mold/0c0debed-e807-4236-a2e3-d9b72f54367f___Crnl_L.Mold 6899.JPG  \n",
            "  inflating: Plant_disease/Tomato_Leaf_Mold/0ced0bae-d224-43f5-8fd7-072c7cbd8f77___Crnl_L.Mold 9161.JPG  \n",
            "  inflating: Plant_disease/Tomato_Leaf_Mold/0d54c850-da9a-498d-a636-ddeac067fd7e___Crnl_L.Mold 6746.JPG  \n",
            "  inflating: Plant_disease/Tomato_Leaf_Mold/0db4cbf4-fa94-42c8-8bf5-90114281c569___Crnl_L.Mold 8681.JPG  \n",
            "  inflating: Plant_disease/Tomato_Leaf_Mold/0ddf82ad-9004-4913-ac9c-d00333d7c858___Crnl_L.Mold 7089.JPG  \n",
            "  inflating: Plant_disease/Tomato_Leaf_Mold/0de02a32-f166-4d67-bbb8-689e96d04c44___Crnl_L.Mold 8811.JPG  \n",
            "  inflating: Plant_disease/Tomato_Leaf_Mold/0e508a3f-af06-4c8a-be78-5c38d2d4fb68___Crnl_L.Mold 6775.JPG  \n",
            "  inflating: Plant_disease/Tomato_Leaf_Mold/0e5b669e-8534-45ab-a3c0-63134e685069___Crnl_L.Mold 7144.JPG  \n",
            "   creating: Plant_disease/Tomato_Septoria_leaf_spot/\n",
            "  inflating: Plant_disease/Tomato_Septoria_leaf_spot/00f16858-f392-4d9e-ad9f-efab8049a13f___JR_Sept.L.S 8368.JPG  \n",
            "  inflating: Plant_disease/Tomato_Septoria_leaf_spot/0a146952-538a-41e5-a422-b5d50e91771e___Matt.S_CG 6079.JPG  \n",
            "  inflating: Plant_disease/Tomato_Septoria_leaf_spot/0a25f893-1b5f-4845-baa1-f68ac03d96ac___Matt.S_CG 7863.JPG  \n",
            "  inflating: Plant_disease/Tomato_Septoria_leaf_spot/0a5edec2-e297-4a25-86fc-78f03772c100___JR_Sept.L.S 8468.JPG  \n",
            "  inflating: Plant_disease/Tomato_Septoria_leaf_spot/0a68a294-30d1-4422-ab7e-a1909ec277f7___JR_Sept.L.S 8443.JPG  \n",
            "  inflating: Plant_disease/Tomato_Septoria_leaf_spot/0a70601b-8511-4a56-9562-c95c46372874___Matt.S_CG 1032.JPG  \n",
            "  inflating: Plant_disease/Tomato_Septoria_leaf_spot/0a76257e-6a78-459b-8f51-a266805121eb___Matt.S_CG 2527.JPG  \n",
            "  inflating: Plant_disease/Tomato_Septoria_leaf_spot/0a95b5b7-7bfb-4201-9320-dae33498081a___JR_Sept.L.S 2482.JPG  \n",
            "  inflating: Plant_disease/Tomato_Septoria_leaf_spot/0aa486df-97b6-4764-89a9-d193e16aabbb___Keller.St_CG 1931.JPG  \n",
            "  inflating: Plant_disease/Tomato_Septoria_leaf_spot/0ab271a7-765e-4675-8bfc-e249c0c86fdd___Keller.St_CG 1778.JPG  \n",
            "  inflating: Plant_disease/Tomato_Septoria_leaf_spot/0c48052c-232b-4ea7-b77d-322f5f642612___Matt.S_CG 7724.JPG  \n",
            "  inflating: Plant_disease/Tomato_Septoria_leaf_spot/0ca7ed02-4540-47df-b01d-194b23226a2d___Matt.S_CG 1733.JPG  \n",
            "  inflating: Plant_disease/Tomato_Septoria_leaf_spot/0cba2d69-c73b-472b-9fc1-beca9b3f02a0___JR_Sept.L.S 8369.JPG  \n",
            "  inflating: Plant_disease/Tomato_Septoria_leaf_spot/0cff7307-2103-4aaf-b2af-899221b15e34___Matt.S_CG 7756.JPG  \n",
            "  inflating: Plant_disease/Tomato_Septoria_leaf_spot/0d12d6ee-bc90-413e-8638-e476cd8ba8ee___Keller.St_CG 1840.JPG  \n",
            "  inflating: Plant_disease/Tomato_Septoria_leaf_spot/0d1ab917-ea01-43d7-8a63-232bffcfbb08___Keller.St_CG 1769.JPG  \n",
            "  inflating: Plant_disease/Tomato_Septoria_leaf_spot/0d1d305a-e4d1-4037-b0bd-1276c5200488___Matt.S_CG 1542.JPG  \n",
            "  inflating: Plant_disease/Tomato_Septoria_leaf_spot/0d60ecc0-bb8e-4c07-9ad7-5e78aed53b1c___Matt.S_CG 6645.JPG  \n",
            "  inflating: Plant_disease/Tomato_Septoria_leaf_spot/0d8187e2-00e2-40e7-b1a5-c94db561057c___JR_Sept.L.S 8439.JPG  \n",
            "  inflating: Plant_disease/Tomato_Septoria_leaf_spot/0df95a30-e5bd-4fec-8271-c2de4e79a7e7___Keller.St_CG 1978.JPG  \n",
            "   creating: Plant_disease/Tomato_Spider_mites_Two_spotted_spider_mite/\n",
            "  inflating: Plant_disease/Tomato_Spider_mites_Two_spotted_spider_mite/0bfd3a50-768e-4661-a134-43aaee7a1c1d___Com.G_SpM_FL 8837.JPG  \n",
            "  inflating: Plant_disease/Tomato_Spider_mites_Two_spotted_spider_mite/0c142adf-5d26-4593-a7b3-d16a07f1df33___Com.G_SpM_FL 8768.JPG  \n",
            "  inflating: Plant_disease/Tomato_Spider_mites_Two_spotted_spider_mite/0c2e84df-4d41-46f6-9cf9-05aea349ce18___Com.G_SpM_FL 1142.JPG  \n",
            "  inflating: Plant_disease/Tomato_Spider_mites_Two_spotted_spider_mite/0c817d69-a13f-47d9-be7b-a17eea45774d___Com.G_SpM_FL 8613.JPG  \n",
            "  inflating: Plant_disease/Tomato_Spider_mites_Two_spotted_spider_mite/0cc75e2e-9e6f-4b8e-b564-3840c9ecff58___Com.G_SpM_FL 1442.JPG  \n",
            "  inflating: Plant_disease/Tomato_Spider_mites_Two_spotted_spider_mite/0cee18fc-bbbd-40dd-8d73-93df072c09ea___Com.G_SpM_FL 8904.JPG  \n",
            "  inflating: Plant_disease/Tomato_Spider_mites_Two_spotted_spider_mite/0d5846df-f761-4d38-b10f-7bdb42b989b7___Com.G_SpM_FL 1484.JPG  \n",
            "  inflating: Plant_disease/Tomato_Spider_mites_Two_spotted_spider_mite/0d6a202a-046f-47b2-beec-cc6a1e7deae6___Com.G_SpM_FL 8937.JPG  \n",
            "  inflating: Plant_disease/Tomato_Spider_mites_Two_spotted_spider_mite/0d7c22dc-323c-4979-9dad-0fdbfdeb6e4e___Com.G_SpM_FL 9038.JPG  \n",
            "  inflating: Plant_disease/Tomato_Spider_mites_Two_spotted_spider_mite/0d831ad9-bc2a-4168-bbf2-6030f3f886f2___Com.G_SpM_FL 9419.JPG  \n",
            "  inflating: Plant_disease/Tomato_Spider_mites_Two_spotted_spider_mite/0d835caf-0069-4fa5-a022-c8cc7763189c___Com.G_SpM_FL 8917.JPG  \n",
            "  inflating: Plant_disease/Tomato_Spider_mites_Two_spotted_spider_mite/0d956449-8243-4229-b293-124461cc4940___Com.G_SpM_FL 9325.JPG  \n",
            "  inflating: Plant_disease/Tomato_Spider_mites_Two_spotted_spider_mite/0db2da38-8650-461a-a785-814cc442f44d___Com.G_SpM_FL 1378.JPG  \n",
            "  inflating: Plant_disease/Tomato_Spider_mites_Two_spotted_spider_mite/0db59779-c927-4b54-a258-73344972746b___Com.G_SpM_FL 1752.JPG  \n",
            "  inflating: Plant_disease/Tomato_Spider_mites_Two_spotted_spider_mite/0dd13a82-3fd8-426b-8a87-4e695c92d3b2___Com.G_SpM_FL 8829.JPG  \n",
            "  inflating: Plant_disease/Tomato_Spider_mites_Two_spotted_spider_mite/0e05cc2b-1209-4a5a-9ae1-26b3dd13204b___Com.G_SpM_FL 8428.JPG  \n",
            "  inflating: Plant_disease/Tomato_Spider_mites_Two_spotted_spider_mite/0e0d9560-41ee-45cf-8bea-8cddfdc04979___Com.G_SpM_FL 1159.JPG  \n",
            "  inflating: Plant_disease/Tomato_Spider_mites_Two_spotted_spider_mite/0e20026b-8b12-4c86-bd41-3e10ea0fae44___Com.G_SpM_FL 1668.JPG  \n",
            "  inflating: Plant_disease/Tomato_Spider_mites_Two_spotted_spider_mite/0e74fa9e-a63f-46b3-a976-46510e7fdfba___Com.G_SpM_FL 8579.JPG  \n",
            "  inflating: Plant_disease/Tomato_Spider_mites_Two_spotted_spider_mite/0e9318de-e920-4d2c-bb61-5ef0a628d273___Com.G_SpM_FL 9302.JPG  \n"
          ],
          "name": "stdout"
        }
      ]
    },
    {
      "cell_type": "code",
      "metadata": {
        "id": "07CAU0RO5NaP",
        "colab_type": "code",
        "colab": {
          "base_uri": "https://localhost:8080/",
          "height": 35
        },
        "outputId": "1c17f794-8390-489a-9ef4-44e9ad3243a3"
      },
      "source": [
        "import numpy as np\n",
        "import pickle\n",
        "import cv2\n",
        "from os import listdir\n",
        "from sklearn.preprocessing import LabelBinarizer\n",
        "from keras.models import Sequential\n",
        "from keras.layers.normalization import BatchNormalization\n",
        "from keras.layers.convolutional import Conv2D\n",
        "from keras.layers.convolutional import MaxPooling2D\n",
        "from keras.layers.core import Activation, Flatten, Dropout, Dense\n",
        "from keras import backend as K\n",
        "from keras.preprocessing.image import ImageDataGenerator\n",
        "from keras.optimizers import Adam\n",
        "from keras.preprocessing import image\n",
        "from keras.preprocessing.image import img_to_array\n",
        "from sklearn.preprocessing import MultiLabelBinarizer\n",
        "from sklearn.model_selection import train_test_split\n",
        "import matplotlib.pyplot as plt\n",
        "import pandas as pd\n"
      ],
      "execution_count": null,
      "outputs": [
        {
          "output_type": "stream",
          "text": [
            "Using TensorFlow backend.\n"
          ],
          "name": "stderr"
        }
      ]
    },
    {
      "cell_type": "code",
      "metadata": {
        "id": "-essNz6h5S2m",
        "colab_type": "code",
        "colab": {}
      },
      "source": [
        "image_list_a, label_list = [], []\n",
        "\n",
        "totalImage = 0  # it is used to control total numbe of images for each class\n",
        "\n",
        "root_dir = listdir(\"/content/Plant_disease/\") # Specify location of plant images\n",
        "\n",
        "for image_folder in root_dir :  # Look for each folder\n",
        "    # Look for All images in each folder\n",
        "    image_list = listdir(f\"/content/Plant_disease/{image_folder}\")\n",
        "    \n",
        "    for image in image_list:\n",
        "        # Read each image in a variable image_list_a and \n",
        "        #correspoding folder name as image lable\n",
        "        \n",
        "        image_name = f\"/content/Plant_disease/{image_folder}/\"+image\n",
        "        if isinstance(image_name, str) == True:\n",
        "            if image_name.endswith(\".jpg\") == True or image_name.endswith(\".JPG\") == True:\n",
        "                image=cv2.imread(image_name)\n",
        "                image=cv2.resize(image,(256,256)).flatten()\n",
        "                image_list_a.append(image)\n",
        "                label_list.append(image_folder)\n",
        "\n",
        "\n",
        "image_list_a=np.array(image_list_a, dtype=\"float\")/255.0\n",
        "\n",
        "            "
      ],
      "execution_count": null,
      "outputs": []
    },
    {
      "cell_type": "code",
      "metadata": {
        "id": "nCQr8OIm6aOr",
        "colab_type": "code",
        "colab": {}
      },
      "source": [
        "(trainX, testX, trainY, testY) = train_test_split(image_list_a, label_list, test_size=0.2, random_state=42)"
      ],
      "execution_count": null,
      "outputs": []
    },
    {
      "cell_type": "code",
      "metadata": {
        "id": "H2qKACee665B",
        "colab_type": "code",
        "colab": {}
      },
      "source": [
        "lb = LabelBinarizer()\n",
        "trainY = lb.fit_transform(trainY)  \n",
        "testY = lb.transform(testY)    "
      ],
      "execution_count": null,
      "outputs": []
    },
    {
      "cell_type": "code",
      "metadata": {
        "id": "AcZJixaf8djw",
        "colab_type": "code",
        "colab": {
          "base_uri": "https://localhost:8080/",
          "height": 225
        },
        "outputId": "5fadbdea-76b8-44ae-aaee-63a303e858d0"
      },
      "source": [
        "model=Sequential()\n",
        "model.add(Dense(units=32, activation='sigmoid', input_shape=(196608,)))\n",
        "model.add(Dense(units=15, activation='softmax'))\n",
        "model.summary()"
      ],
      "execution_count": null,
      "outputs": [
        {
          "output_type": "stream",
          "text": [
            "Model: \"sequential_2\"\n",
            "_________________________________________________________________\n",
            "Layer (type)                 Output Shape              Param #   \n",
            "=================================================================\n",
            "dense_3 (Dense)              (None, 32)                6291488   \n",
            "_________________________________________________________________\n",
            "dense_4 (Dense)              (None, 15)                495       \n",
            "=================================================================\n",
            "Total params: 6,291,983\n",
            "Trainable params: 6,291,983\n",
            "Non-trainable params: 0\n",
            "_________________________________________________________________\n"
          ],
          "name": "stdout"
        }
      ]
    },
    {
      "cell_type": "code",
      "metadata": {
        "id": "roRxvVYD86JN",
        "colab_type": "code",
        "colab": {}
      },
      "source": [
        "EPOCHS = 10\n",
        "INIT_LR = 1e-3\n",
        "BS = 32\n",
        "opt = Adam(lr=INIT_LR, decay=INIT_LR / EPOCHS)\n",
        "model.compile(loss=\"binary_crossentropy\", optimizer=opt,metrics=[\"accuracy\"])"
      ],
      "execution_count": null,
      "outputs": []
    },
    {
      "cell_type": "code",
      "metadata": {
        "id": "5R9-abkv9FvC",
        "colab_type": "code",
        "colab": {
          "base_uri": "https://localhost:8080/",
          "height": 381
        },
        "outputId": "c8f6f307-5199-4a1c-d229-247478ae1516"
      },
      "source": [
        "history = model.fit(trainX, trainY, batch_size=32,\n",
        "    validation_data=(testX, testY),\n",
        "    epochs=EPOCHS, verbose=1\n",
        "    )"
      ],
      "execution_count": null,
      "outputs": [
        {
          "output_type": "stream",
          "text": [
            "Train on 240 samples, validate on 60 samples\n",
            "Epoch 1/10\n",
            "240/240 [==============================] - 1s 6ms/step - loss: 0.2611 - accuracy: 0.9333 - val_loss: 0.2520 - val_accuracy: 0.9333\n",
            "Epoch 2/10\n",
            "240/240 [==============================] - 1s 4ms/step - loss: 0.2584 - accuracy: 0.9333 - val_loss: 0.2505 - val_accuracy: 0.9333\n",
            "Epoch 3/10\n",
            "240/240 [==============================] - 1s 4ms/step - loss: 0.2561 - accuracy: 0.9333 - val_loss: 0.2493 - val_accuracy: 0.9333\n",
            "Epoch 4/10\n",
            "240/240 [==============================] - 1s 4ms/step - loss: 0.2541 - accuracy: 0.9333 - val_loss: 0.2484 - val_accuracy: 0.9333\n",
            "Epoch 5/10\n",
            "240/240 [==============================] - 1s 4ms/step - loss: 0.2524 - accuracy: 0.9333 - val_loss: 0.2477 - val_accuracy: 0.9333\n",
            "Epoch 6/10\n",
            "240/240 [==============================] - 1s 4ms/step - loss: 0.2510 - accuracy: 0.9333 - val_loss: 0.2471 - val_accuracy: 0.9333\n",
            "Epoch 7/10\n",
            "240/240 [==============================] - 1s 4ms/step - loss: 0.2499 - accuracy: 0.9333 - val_loss: 0.2468 - val_accuracy: 0.9333\n",
            "Epoch 8/10\n",
            "240/240 [==============================] - 1s 4ms/step - loss: 0.2489 - accuracy: 0.9333 - val_loss: 0.2465 - val_accuracy: 0.9333\n",
            "Epoch 9/10\n",
            "240/240 [==============================] - 1s 4ms/step - loss: 0.2481 - accuracy: 0.9333 - val_loss: 0.2465 - val_accuracy: 0.9333\n",
            "Epoch 10/10\n",
            "240/240 [==============================] - 1s 4ms/step - loss: 0.2474 - accuracy: 0.9333 - val_loss: 0.2466 - val_accuracy: 0.9333\n"
          ],
          "name": "stdout"
        }
      ]
    },
    {
      "cell_type": "code",
      "metadata": {
        "id": "Iud8-XNQ9Ftf",
        "colab_type": "code",
        "colab": {
          "base_uri": "https://localhost:8080/",
          "height": 52
        },
        "outputId": "ee7ac365-e707-43b8-cdbb-27b723e5d3e3"
      },
      "source": [
        "model.evaluate(testX, testY)"
      ],
      "execution_count": null,
      "outputs": [
        {
          "output_type": "stream",
          "text": [
            "60/60 [==============================] - 0s 1ms/step\n"
          ],
          "name": "stdout"
        },
        {
          "output_type": "execute_result",
          "data": {
            "text/plain": [
              "[0.2465813487768173, 0.9333333373069763]"
            ]
          },
          "metadata": {
            "tags": []
          },
          "execution_count": 12
        }
      ]
    }
  ]
}