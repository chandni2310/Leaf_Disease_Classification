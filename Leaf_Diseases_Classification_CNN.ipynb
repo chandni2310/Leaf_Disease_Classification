{
  "nbformat": 4,
  "nbformat_minor": 0,
  "metadata": {
    "kernelspec": {
      "display_name": "Python 3",
      "language": "python",
      "name": "python3"
    },
    "language_info": {
      "codemirror_mode": {
        "name": "ipython",
        "version": 3
      },
      "file_extension": ".py",
      "mimetype": "text/x-python",
      "name": "python",
      "nbconvert_exporter": "python",
      "pygments_lexer": "ipython3",
      "version": "3.7.4"
    },
    "colab": {
      "name": "Leaf_Diseases_Classification_CNN.ipynb",
      "provenance": []
    }
  },
  "cells": [
    {
      "cell_type": "code",
      "metadata": {
        "id": "Nw0ZhAHmcJLs",
        "colab_type": "code",
        "colab": {},
        "outputId": "ea10166c-69d6-45db-e0c9-7682b6d5a484"
      },
      "source": [
        "import numpy as np\n",
        "import pickle\n",
        "import cv2\n",
        "from os import listdir\n",
        "from sklearn.preprocessing import LabelBinarizer\n",
        "from keras.models import Sequential\n",
        "from keras.layers.normalization import BatchNormalization\n",
        "from keras.layers.convolutional import Conv2D\n",
        "from keras.layers.convolutional import MaxPooling2D\n",
        "from keras.layers.core import Activation, Flatten, Dropout, Dense\n",
        "from keras import backend as K\n",
        "from keras.preprocessing.image import ImageDataGenerator\n",
        "from keras.optimizers import Adam\n",
        "from keras.preprocessing import image\n",
        "from keras.preprocessing.image import img_to_array\n",
        "from sklearn.preprocessing import MultiLabelBinarizer\n",
        "from sklearn.model_selection import train_test_split\n",
        "import matplotlib.pyplot as plt\n",
        "import pandas as pd\n"
      ],
      "execution_count": null,
      "outputs": [
        {
          "output_type": "stream",
          "text": [
            "Using TensorFlow backend.\n"
          ],
          "name": "stderr"
        }
      ]
    },
    {
      "cell_type": "code",
      "metadata": {
        "id": "N1RFyLrXcJL8",
        "colab_type": "code",
        "colab": {}
      },
      "source": [
        "import tensorflow as ts\n",
        "import keras as ks"
      ],
      "execution_count": null,
      "outputs": []
    },
    {
      "cell_type": "code",
      "metadata": {
        "id": "QW5e1H5TcJMG",
        "colab_type": "code",
        "colab": {},
        "outputId": "86fcb9a1-d7bc-4d66-db75-85b46381851d"
      },
      "source": [
        "print(ts.__version__)"
      ],
      "execution_count": null,
      "outputs": [
        {
          "output_type": "stream",
          "text": [
            "1.14.0\n"
          ],
          "name": "stdout"
        }
      ]
    },
    {
      "cell_type": "code",
      "metadata": {
        "id": "I9zFUycmcJMP",
        "colab_type": "code",
        "colab": {}
      },
      "source": [
        "default_image_size = tuple((256, 256))\n",
        "## Function to convert image to array of 256 X 256\n",
        "def convert_image_to_array(image_dir):\n",
        "    try:\n",
        "        image = cv2.imread(image_dir)\n",
        "        if image is not None :\n",
        "            image = cv2.resize(image, default_image_size)   \n",
        "            return img_to_array(image)\n",
        "        else :\n",
        "            return np.array([])\n",
        "    except Exception as e:\n",
        "        print(f\"Error : {e}\")\n",
        "        return None"
      ],
      "execution_count": null,
      "outputs": []
    },
    {
      "cell_type": "code",
      "metadata": {
        "id": "qMNWeaICcJMU",
        "colab_type": "code",
        "colab": {},
        "outputId": "ca34a59a-1639-4c95-baab-62f36919c1bd"
      },
      "source": [
        "image_list_a, label_list = [], []\n",
        "\n",
        "totalImage = 0  # it is used to control total numbe of images for each class\n",
        "\n",
        "root_dir = listdir(\"Downloads\\Plant_Disease/\") # Specify location of plant images\n",
        "\n",
        "for image_folder in root_dir :  # Look for each folder\n",
        "    # Look for All images in each folder\n",
        "    image_list = listdir(f\"Downloads\\Plant_Disease/{image_folder}\")\n",
        "    \n",
        "    for image in image_list:\n",
        "        # Read each image in a variable image_list_a and \n",
        "        #correspoding folder name as image lable\n",
        "        \n",
        "        image_name = f\"Downloads\\Plant_Disease/{image_folder}/\"+image\n",
        "        if isinstance(image_name, str) == True:\n",
        "            if image_name.endswith(\".jpg\") == True or image_name.endswith(\".JPG\") == True:\n",
        "                image_list_a.append(convert_image_to_array(image_name))\n",
        "                label_list.append(image_folder)\n",
        "        totalImage = totalImage+1\n",
        "        if(totalImage>=20):          \n",
        "            break\n",
        "            \n",
        "print(len(label_list),len(np.unique(np.asarray(label_list))))\n",
        "from sys import getsizeof\n",
        "getsizeof(image_list_a)"
      ],
      "execution_count": null,
      "outputs": [
        {
          "output_type": "stream",
          "text": [
            "33 15\n"
          ],
          "name": "stdout"
        },
        {
          "output_type": "execute_result",
          "data": {
            "text/plain": [
              "344"
            ]
          },
          "metadata": {
            "tags": []
          },
          "execution_count": 5
        }
      ]
    },
    {
      "cell_type": "code",
      "metadata": {
        "id": "82XzsSHGcJMY",
        "colab_type": "code",
        "colab": {}
      },
      "source": [
        "label_binarizer = LabelBinarizer()\n",
        "image_labels = label_binarizer.fit_transform(label_list)\n",
        "pickle.dump(label_binarizer,open('label_transform.pkl', 'wb'))\n",
        "n_classes = len(label_binarizer.classes_)"
      ],
      "execution_count": null,
      "outputs": []
    },
    {
      "cell_type": "code",
      "metadata": {
        "id": "prka-DnWcJMd",
        "colab_type": "code",
        "colab": {}
      },
      "source": [
        "# Split data in train and test\n",
        "image_list_a = np.asarray(image_list_a)\n",
        "x_train, x_test, y_train, y_test = train_test_split(image_list_a, image_labels, test_size=0.2, random_state = 42)"
      ],
      "execution_count": null,
      "outputs": []
    },
    {
      "cell_type": "code",
      "metadata": {
        "id": "r_yG73ZPcJMi",
        "colab_type": "code",
        "colab": {},
        "outputId": "747e154c-fcf7-4139-87ce-e0c390c9dcc4"
      },
      "source": [
        "EPOCHS = 10\n",
        "INIT_LR = 1e-3\n",
        "BS = 32\n",
        "    width=256\n",
        "    height=256\n",
        "    depth=3\n",
        "    inputShape = (height, width, depth)\n",
        "    input_shape = (x_train.shape[1], x_train.shape[2], x_train.shape[3]) \n",
        "chanDim = 1\n",
        "\n",
        "# Develope  model\n",
        "model = Sequential()\n",
        "model.add(Conv2D(4, (3, 3), input_shape=inputShape))\n",
        "model.add(Activation(\"relu\"))\n",
        "model.add(BatchNormalization(axis=1))\n",
        "model.add(MaxPooling2D(pool_size=(3, 3)))\n",
        "model.add(Dropout(0.25))\n",
        "model.add(Flatten())\n",
        "model.add(Dense(524))\n",
        "model.add(Activation(\"relu\"))\n",
        "model.add(BatchNormalization())\n",
        "model.add(Dropout(0.5))\n",
        "model.add(Dense(n_classes))\n",
        "model.add(Activation(\"softmax\"))\n",
        "model.summary()"
      ],
      "execution_count": null,
      "outputs": [
        {
          "output_type": "stream",
          "text": [
            "WARNING:tensorflow:From C:\\Users\\CDP\\Anaconda3\\lib\\site-packages\\keras\\backend\\tensorflow_backend.py:4070: The name tf.nn.max_pool is deprecated. Please use tf.nn.max_pool2d instead.\n",
            "\n",
            "Model: \"sequential_1\"\n",
            "_________________________________________________________________\n",
            "Layer (type)                 Output Shape              Param #   \n",
            "=================================================================\n",
            "conv2d_1 (Conv2D)            (None, 254, 254, 4)       112       \n",
            "_________________________________________________________________\n",
            "activation_1 (Activation)    (None, 254, 254, 4)       0         \n",
            "_________________________________________________________________\n",
            "batch_normalization_1 (Batch (None, 254, 254, 4)       1016      \n",
            "_________________________________________________________________\n",
            "max_pooling2d_1 (MaxPooling2 (None, 84, 84, 4)         0         \n",
            "_________________________________________________________________\n",
            "dropout_1 (Dropout)          (None, 84, 84, 4)         0         \n",
            "_________________________________________________________________\n",
            "flatten_1 (Flatten)          (None, 28224)             0         \n",
            "_________________________________________________________________\n",
            "dense_1 (Dense)              (None, 524)               14789900  \n",
            "_________________________________________________________________\n",
            "activation_2 (Activation)    (None, 524)               0         \n",
            "_________________________________________________________________\n",
            "batch_normalization_2 (Batch (None, 524)               2096      \n",
            "_________________________________________________________________\n",
            "dropout_2 (Dropout)          (None, 524)               0         \n",
            "_________________________________________________________________\n",
            "dense_2 (Dense)              (None, 15)                7875      \n",
            "_________________________________________________________________\n",
            "activation_3 (Activation)    (None, 15)                0         \n",
            "=================================================================\n",
            "Total params: 14,800,999\n",
            "Trainable params: 14,799,443\n",
            "Non-trainable params: 1,556\n",
            "_________________________________________________________________\n"
          ],
          "name": "stdout"
        }
      ]
    },
    {
      "cell_type": "code",
      "metadata": {
        "id": "jVO4EXAqcJMn",
        "colab_type": "code",
        "colab": {}
      },
      "source": [
        "opt = Adam(lr=INIT_LR, decay=INIT_LR / EPOCHS)\n",
        "model.compile(loss=\"binary_crossentropy\", optimizer=opt,metrics=[\"accuracy\"])"
      ],
      "execution_count": null,
      "outputs": []
    },
    {
      "cell_type": "code",
      "metadata": {
        "id": "Rw_EeMTCcJMr",
        "colab_type": "code",
        "colab": {},
        "outputId": "58bda537-a7a1-4982-cba6-a45e9ba08b90"
      },
      "source": [
        "history = model.fit(x_train, y_train, batch_size=32,\n",
        "    validation_data=(x_test, y_test),\n",
        "    epochs=EPOCHS, verbose=1\n",
        "    )"
      ],
      "execution_count": null,
      "outputs": [
        {
          "output_type": "stream",
          "text": [
            "WARNING:tensorflow:From C:\\Users\\CDP\\Anaconda3\\lib\\site-packages\\tensorflow\\python\\ops\\math_grad.py:1250: add_dispatch_support.<locals>.wrapper (from tensorflow.python.ops.array_ops) is deprecated and will be removed in a future version.\n",
            "Instructions for updating:\n",
            "Use tf.where in 2.0, which has the same broadcast rule as np.where\n",
            "WARNING:tensorflow:From C:\\Users\\CDP\\Anaconda3\\lib\\site-packages\\keras\\backend\\tensorflow_backend.py:422: The name tf.global_variables is deprecated. Please use tf.compat.v1.global_variables instead.\n",
            "\n",
            "Train on 26 samples, validate on 7 samples\n",
            "Epoch 1/10\n",
            "26/26 [==============================] - 3s 111ms/step - loss: 0.3122 - accuracy: 0.9077 - val_loss: 2.0505 - val_accuracy: 0.8667\n",
            "Epoch 2/10\n",
            "26/26 [==============================] - 1s 53ms/step - loss: 0.0966 - accuracy: 0.9692 - val_loss: 1.9966 - val_accuracy: 0.8667\n",
            "Epoch 3/10\n",
            "26/26 [==============================] - 1s 55ms/step - loss: 0.0336 - accuracy: 0.9897 - val_loss: 2.0505 - val_accuracy: 0.8667\n",
            "Epoch 4/10\n",
            "26/26 [==============================] - 2s 58ms/step - loss: 0.0146 - accuracy: 0.9974 - val_loss: 2.0505 - val_accuracy: 0.8667\n",
            "Epoch 5/10\n",
            "26/26 [==============================] - 1s 54ms/step - loss: 0.0060 - accuracy: 1.0000 - val_loss: 2.0505 - val_accuracy: 0.8667\n",
            "Epoch 6/10\n",
            "26/26 [==============================] - 1s 57ms/step - loss: 0.0049 - accuracy: 1.0000 - val_loss: 2.0505 - val_accuracy: 0.8667\n",
            "Epoch 7/10\n",
            "26/26 [==============================] - 1s 57ms/step - loss: 0.0075 - accuracy: 1.0000 - val_loss: 2.0505 - val_accuracy: 0.8667\n",
            "Epoch 8/10\n",
            "26/26 [==============================] - 1s 56ms/step - loss: 0.0041 - accuracy: 1.0000 - val_loss: 2.0505 - val_accuracy: 0.8667\n",
            "Epoch 9/10\n",
            "26/26 [==============================] - 1s 52ms/step - loss: 0.0016 - accuracy: 1.0000 - val_loss: 2.0284 - val_accuracy: 0.8667\n",
            "Epoch 10/10\n",
            "26/26 [==============================] - 1s 58ms/step - loss: 0.0014 - accuracy: 1.0000 - val_loss: 1.9618 - val_accuracy: 0.8667\n"
          ],
          "name": "stdout"
        }
      ]
    },
    {
      "cell_type": "code",
      "metadata": {
        "id": "K1AqXSz3cJMv",
        "colab_type": "code",
        "colab": {},
        "outputId": "7a3732fb-842a-4c49-984a-60fcf670e837"
      },
      "source": [
        "model.evaluate(x_test, y_test)"
      ],
      "execution_count": null,
      "outputs": [
        {
          "output_type": "stream",
          "text": [
            "\r7/7 [==============================] - 0s 17ms/step\n"
          ],
          "name": "stdout"
        },
        {
          "output_type": "execute_result",
          "data": {
            "text/plain": [
              "[1.961829423904419, 0.8666667342185974]"
            ]
          },
          "metadata": {
            "tags": []
          },
          "execution_count": 14
        }
      ]
    },
    {
      "cell_type": "code",
      "metadata": {
        "id": "SAb7J0HVcJM0",
        "colab_type": "code",
        "colab": {}
      },
      "source": [
        ""
      ],
      "execution_count": null,
      "outputs": []
    }
  ]
}